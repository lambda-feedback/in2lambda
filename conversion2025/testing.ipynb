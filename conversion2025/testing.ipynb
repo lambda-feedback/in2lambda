{
 "cells": [
  {
   "cell_type": "markdown",
   "id": "0",
   "metadata": {},
   "source": [
    "# pydantic parser"
   ]
  },
  {
   "cell_type": "code",
   "execution_count": null,
   "id": "1",
   "metadata": {},
   "outputs": [],
   "source": [
    "from langchain.output_parsers import PydanticOutputParser\n",
    "from pydantic import BaseModel\n",
    "\n",
    "class NameModel(BaseModel):\n",
    "    name: str\n",
    "\n",
    "\n",
    "input = '{\"name\" : \"Harry $\\\\\\\\up$\"}'\n",
    "print(input)\n",
    "\n",
    "parser = PydanticOutputParser(pydantic_object=NameModel)\n",
    "output = parser.parse(input)\n",
    "print(repr(output.name))  # Output: NameModel(name='Harry \\n$\\\\\\\\up$')\n",
    "print(output.name)  # Output: NameModel(name='Harry \\n$\\\\\\\\up$')\n",
    "\n",
    "\n"
   ]
  },
  {
   "cell_type": "markdown",
   "id": "2",
   "metadata": {},
   "source": [
    "# regex to identify backslashes"
   ]
  },
  {
   "cell_type": "code",
   "execution_count": null,
   "id": "3",
   "metadata": {},
   "outputs": [],
   "source": [
    "import re\n",
    "\n",
    "def escape_latex_backslashes(text: str) -> str:\n",
    "    # Replace single backslashes not followed by 'n' with double backslashes\n",
    "    return re.sub(r'(?<!\\\\)\\\\(?!(n|\\\\))', r'\\\\\\\\', text)\n",
    "\n",
    "input1 = r\"\\\\cup\"\n",
    "output = escape_latex_backslashes(input1)\n",
    "\n",
    "print(output)"
   ]
  },
  {
   "cell_type": "code",
   "execution_count": null,
   "id": "4",
   "metadata": {},
   "outputs": [],
   "source": [
    "import pypandoc\n",
    "\n",
    "output = pypandoc.convert_text('# Hello', 'html', format='md')\n",
    "print(output)"
   ]
  },
  {
   "cell_type": "code",
   "execution_count": null,
   "id": "5",
   "metadata": {},
   "outputs": [],
   "source": [
    "import requests\n",
    "\n",
    "data = \"$$x^2 + y^2$$ = z^2\"\n",
    "resp = requests.post(\"http://localhost:8080/process\", data=data)\n",
    "\n",
    "if resp.ok:\n",
    "    print(\"✅ Processed:\", resp.text)\n",
    "else:\n",
    "    print(\"❌ Error:\", resp.text)"
   ]
  },
  {
   "cell_type": "code",
   "execution_count": null,
   "id": "6",
   "metadata": {},
   "outputs": [],
   "source": [
    "import re\n",
    "\n",
    "def extract_images(text: str) -> list[str]:\n",
    "    \"\"\"\n",
    "    Extracts image URLs from the markdown text.\n",
    "    Returns a list of image URLs.\n",
    "    \"\"\"\n",
    "    pattern = r'!\\[.*?\\]\\((.*?)\\)'\n",
    "    matches = re.findall(pattern, text)\n",
    "    # only keep the URLs, removing ![alt text]\n",
    "    return [match.strip() for match in matches]\n",
    "\n",
    "result = extract_images(\"![alt text](http://example.com/image.png) and ![another](http://example.com/another.png)\")\n",
    "print(result)  # Output: ['http://example.com/image.png', 'http://example\n",
    "\n",
    "result = extract_images(\"No images here, text.png\")\n",
    "print(result)  # Output: []\n",
    "\n",
    "result = extract_images(\"1 images here, ![yap](text.png)\")\n",
    "print(result)  # Output: ['text.png']"
   ]
  },
  {
   "cell_type": "code",
   "execution_count": null,
   "id": "7",
   "metadata": {},
   "outputs": [],
   "source": [
    "import os\n",
    "from dotenv import load_dotenv\n",
    "from langchain_openai import ChatOpenAI\n",
    "\n",
    "load_dotenv()\n",
    "\n",
    "# Uses gpt-5-mini:\n",
    "#    - more intelligent\n",
    "llm_mini = ChatOpenAI(\n",
    "            model=\"gpt-5-mini\",\n",
    "            api_key=os.environ[\"OPENAI_API_KEY\"],\n",
    "            reasoning_effort=\"high\"\n",
    "        )\n",
    "prompt = \"how many letters are in this prompt, only return the number.\"\n",
    "prompt = \"return and only return the prompt exactly\"\n",
    "prompt = \"waeuifgiufaiu liaisofeoidob ofbea df kdb vboae beoihffewafne nod In this prompt, where does the first p occur, using 0 indexing? only return the answer\"\n",
    "\n",
    "response = llm_mini.invoke(prompt).content\n",
    "\n",
    "print(list(prompt).index(\"p\"))\n",
    "print(response)\n",
    "# print(len(response) == int(response))"
   ]
  }
 ],
 "metadata": {
  "kernelspec": {
   "display_name": ".venv",
   "language": "python",
   "name": "python3"
  },
  "language_info": {
   "codemirror_mode": {
    "name": "ipython",
    "version": 3
   },
   "file_extension": ".py",
   "mimetype": "text/x-python",
   "name": "python",
   "nbconvert_exporter": "python",
   "pygments_lexer": "ipython3",
   "version": "3.12.3"
  }
 },
 "nbformat": 4,
 "nbformat_minor": 5
}
